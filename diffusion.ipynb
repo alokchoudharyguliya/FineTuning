{
 "cells": [
  {
   "cell_type": "code",
   "execution_count": 1,
   "id": "f07b7245",
   "metadata": {},
   "outputs": [
    {
     "name": "stdout",
     "output_type": "stream",
     "text": [
      "Collecting diffusers\n",
      "  Downloading diffusers-0.35.2-py3-none-any.whl.metadata (20 kB)\n",
      "Requirement already satisfied: importlib_metadata in c:\\users\\alok4\\anaconda3\\envs\\gpu_env\\lib\\site-packages (from diffusers) (8.5.0)\n",
      "Requirement already satisfied: filelock in c:\\users\\alok4\\anaconda3\\envs\\gpu_env\\lib\\site-packages (from diffusers) (3.17.0)\n",
      "Collecting huggingface-hub>=0.34.0 (from diffusers)\n",
      "  Downloading huggingface_hub-0.35.3-py3-none-any.whl.metadata (14 kB)\n",
      "Requirement already satisfied: numpy in c:\\users\\alok4\\anaconda3\\envs\\gpu_env\\lib\\site-packages (from diffusers) (1.26.4)\n",
      "Requirement already satisfied: regex!=2019.12.17 in c:\\users\\alok4\\anaconda3\\envs\\gpu_env\\lib\\site-packages (from diffusers) (2024.11.6)\n",
      "Requirement already satisfied: requests in c:\\users\\alok4\\anaconda3\\envs\\gpu_env\\lib\\site-packages (from diffusers) (2.32.3)\n",
      "Requirement already satisfied: safetensors>=0.3.1 in c:\\users\\alok4\\anaconda3\\envs\\gpu_env\\lib\\site-packages (from diffusers) (0.4.3)\n",
      "Requirement already satisfied: Pillow in c:\\users\\alok4\\anaconda3\\envs\\gpu_env\\lib\\site-packages (from diffusers) (10.4.0)\n",
      "Requirement already satisfied: fsspec>=2023.5.0 in c:\\users\\alok4\\anaconda3\\envs\\gpu_env\\lib\\site-packages (from huggingface-hub>=0.34.0->diffusers) (2024.12.0)\n",
      "Requirement already satisfied: packaging>=20.9 in c:\\users\\alok4\\anaconda3\\envs\\gpu_env\\lib\\site-packages (from huggingface-hub>=0.34.0->diffusers) (24.2)\n",
      "Requirement already satisfied: pyyaml>=5.1 in c:\\users\\alok4\\anaconda3\\envs\\gpu_env\\lib\\site-packages (from huggingface-hub>=0.34.0->diffusers) (6.0.1)\n",
      "Requirement already satisfied: tqdm>=4.42.1 in c:\\users\\alok4\\anaconda3\\envs\\gpu_env\\lib\\site-packages (from huggingface-hub>=0.34.0->diffusers) (4.67.1)\n",
      "Requirement already satisfied: typing-extensions>=3.7.4.3 in c:\\users\\alok4\\anaconda3\\envs\\gpu_env\\lib\\site-packages (from huggingface-hub>=0.34.0->diffusers) (4.12.2)\n",
      "Requirement already satisfied: zipp>=3.20 in c:\\users\\alok4\\anaconda3\\envs\\gpu_env\\lib\\site-packages (from importlib_metadata->diffusers) (3.21.0)\n",
      "Requirement already satisfied: charset-normalizer<4,>=2 in c:\\users\\alok4\\anaconda3\\envs\\gpu_env\\lib\\site-packages (from requests->diffusers) (3.3.2)\n",
      "Requirement already satisfied: idna<4,>=2.5 in c:\\users\\alok4\\anaconda3\\envs\\gpu_env\\lib\\site-packages (from requests->diffusers) (3.7)\n",
      "Requirement already satisfied: urllib3<3,>=1.21.1 in c:\\users\\alok4\\anaconda3\\envs\\gpu_env\\lib\\site-packages (from requests->diffusers) (2.3.0)\n",
      "Requirement already satisfied: certifi>=2017.4.17 in c:\\users\\alok4\\anaconda3\\envs\\gpu_env\\lib\\site-packages (from requests->diffusers) (2025.10.5)\n",
      "Requirement already satisfied: colorama in c:\\users\\alok4\\anaconda3\\envs\\gpu_env\\lib\\site-packages (from tqdm>=4.42.1->huggingface-hub>=0.34.0->diffusers) (0.4.6)\n",
      "Downloading diffusers-0.35.2-py3-none-any.whl (4.1 MB)\n",
      "   ---------------------------------------- 0.0/4.1 MB ? eta -:--:--\n",
      "   ---------------------------------------- 0.0/4.1 MB ? eta -:--:--\n",
      "   -- ------------------------------------- 0.3/4.1 MB ? eta -:--:--\n",
      "   ----- ---------------------------------- 0.5/4.1 MB 1.5 MB/s eta 0:00:03\n",
      "   ---------- ----------------------------- 1.0/4.1 MB 1.8 MB/s eta 0:00:02\n",
      "   --------------- ------------------------ 1.6/4.1 MB 1.9 MB/s eta 0:00:02\n",
      "   -------------------- ------------------- 2.1/4.1 MB 2.1 MB/s eta 0:00:01\n",
      "   --------------------------- ------------ 2.9/4.1 MB 2.4 MB/s eta 0:00:01\n",
      "   ----------------------------------- ---- 3.7/4.1 MB 2.6 MB/s eta 0:00:01\n",
      "   ---------------------------------------- 4.1/4.1 MB 2.6 MB/s eta 0:00:00\n",
      "Downloading huggingface_hub-0.35.3-py3-none-any.whl (564 kB)\n",
      "   ---------------------------------------- 0.0/564.3 kB ? eta -:--:--\n",
      "   ------------------ --------------------- 262.1/564.3 kB ? eta -:--:--\n",
      "   ---------------------------------------- 564.3/564.3 kB 1.6 MB/s eta 0:00:00\n",
      "Installing collected packages: huggingface-hub, diffusers\n",
      "  Attempting uninstall: huggingface-hub\n",
      "    Found existing installation: huggingface-hub 0.23.2\n",
      "    Uninstalling huggingface-hub-0.23.2:\n",
      "      Successfully uninstalled huggingface-hub-0.23.2\n",
      "Successfully installed diffusers-0.35.2 huggingface-hub-0.34.4\n"
     ]
    }
   ],
   "source": [
    "!pip install diffusers"
   ]
  },
  {
   "cell_type": "code",
   "execution_count": null,
   "id": "fdf20b0b",
   "metadata": {},
   "outputs": [],
   "source": [
    "import torch\n",
    "from diffusers import StableDiffusionPipeline\n",
    "from PIL import Image"
   ]
  },
  {
   "cell_type": "code",
   "execution_count": null,
   "id": "f5f33bb3",
   "metadata": {},
   "outputs": [
    {
     "ename": "NameError",
     "evalue": "name 'StableDiffusionPipeline' is not defined",
     "output_type": "error",
     "traceback": [
      "\u001b[1;31m---------------------------------------------------------------------------\u001b[0m",
      "\u001b[1;31mNameError\u001b[0m                                 Traceback (most recent call last)",
      "Cell \u001b[1;32mIn[2], line 1\u001b[0m\n\u001b[1;32m----> 1\u001b[0m pipeline\u001b[38;5;241m=\u001b[39m\u001b[43mStableDiffusionPipeline\u001b[49m\u001b[38;5;241m.\u001b[39mfrom_pretrained()\n",
      "\u001b[1;31mNameError\u001b[0m: name 'StableDiffusionPipeline' is not defined"
     ]
    }
   ],
   "source": [
    "pipeline=StableDiffusionPipeline.from_pretrained(\"CompVis/stable-diffusion-v1-4\",torch_dtype=torch.float16)"
   ]
  },
  {
   "cell_type": "code",
   "execution_count": null,
   "id": "be652c53",
   "metadata": {},
   "outputs": [],
   "source": []
  }
 ],
 "metadata": {
  "kernelspec": {
   "display_name": "GPU_ENV",
   "language": "python",
   "name": "python3"
  },
  "language_info": {
   "codemirror_mode": {
    "name": "ipython",
    "version": 3
   },
   "file_extension": ".py",
   "mimetype": "text/x-python",
   "name": "python",
   "nbconvert_exporter": "python",
   "pygments_lexer": "ipython3",
   "version": "3.9.23"
  }
 },
 "nbformat": 4,
 "nbformat_minor": 5
}
